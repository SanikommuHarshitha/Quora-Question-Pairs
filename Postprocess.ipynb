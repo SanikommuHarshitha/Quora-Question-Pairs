{
 "cells": [
  {
   "cell_type": "code",
   "execution_count": 1,
   "metadata": {},
   "outputs": [],
   "source": [
    "from collections import defaultdict\n",
    "import numpy as np\n",
    "import pandas as pd"
   ]
  },
  {
   "cell_type": "code",
   "execution_count": 2,
   "metadata": {},
   "outputs": [],
   "source": [
    "NUM_MODELS = 10\n",
    "TRAIN_TARGET_MEAN = 0.37\n",
    "TEST_TARGET_MEAN = 0.16\n",
    "REPEAT = 2\n",
    "DUP_THRESHOLD = 0.5\n",
    "NOT_DUP_THRESHOLD = 0.1\n",
    "MAX_UPDATE = 0.2\n",
    "DUP_UPPER_BOUND = 0.98\n",
    "NOT_DUP_LOWER_BOUND = 0.01"
   ]
  },
  {
   "cell_type": "markdown",
   "metadata": {},
   "source": [
    "**Loading the datasets**"
   ]
  },
  {
   "cell_type": "code",
   "execution_count": 3,
   "metadata": {},
   "outputs": [],
   "source": [
    "df_train = pd.read_csv(\"train.csv\")\n",
    "df_test = pd.read_csv(\"test.csv\")"
   ]
  },
  {
   "cell_type": "markdown",
   "metadata": {},
   "source": [
    "**Loading the prediction datasets and add \"is_duplicate\" column in all the prediction datasets**"
   ]
  },
  {
   "cell_type": "code",
   "execution_count": 4,
   "metadata": {},
   "outputs": [
    {
     "name": "stdout",
     "output_type": "stream",
     "text": [
      "Average Ensembling...\n"
     ]
    }
   ],
   "source": [
    "print(\"Average Ensembling...\")\n",
    "df = pd.read_csv(\"preds0.csv\")\n",
    "for i in range(1, NUM_MODELS):\n",
    "    df[\"is_duplicate\"] = df[\"is_duplicate\"] + pd.read_csv(\"preds\" + str(i) + \".csv\")[\"is_duplicate\"]\n"
   ]
  },
  {
   "cell_type": "markdown",
   "metadata": {},
   "source": [
    "**Divide the \"is_duplicate\" column by 10**"
   ]
  },
  {
   "cell_type": "code",
   "execution_count": 5,
   "metadata": {},
   "outputs": [],
   "source": [
    "df[\"is_duplicate\"] /= NUM_MODELS"
   ]
  },
  {
   "cell_type": "code",
   "execution_count": 6,
   "metadata": {},
   "outputs": [
    {
     "name": "stdout",
     "output_type": "stream",
     "text": [
      "Adjusting predictions considering the different class inbalance ratio...\n"
     ]
    }
   ],
   "source": [
    "print(\"Adjusting predictions considering the different class inbalance ratio...\")\n",
    "a = TEST_TARGET_MEAN / TRAIN_TARGET_MEAN\n",
    "b = (1 - TEST_TARGET_MEAN) / (1 - TRAIN_TARGET_MEAN)\n",
    "df[\"is_duplicate\"] = df[\"is_duplicate\"].apply(lambda x: a*x / (a*x + b*(1 - x)))\n"
   ]
  },
  {
   "cell_type": "code",
   "execution_count": 7,
   "metadata": {},
   "outputs": [],
   "source": [
    "test_label = np.array(df[\"is_duplicate\"])"
   ]
  },
  {
   "cell_type": "markdown",
   "metadata": {},
   "source": [
    "**Updating the predictions of the pairs with common duplicates**"
   ]
  },
  {
   "cell_type": "code",
   "execution_count": 8,
   "metadata": {},
   "outputs": [
    {
     "name": "stdout",
     "output_type": "stream",
     "text": [
      "Updating the predictions of the pairs with common duplicates..\n",
      "Updated: 15478\n",
      "Updated: 16315\n"
     ]
    }
   ],
   "source": [
    "print(\"Updating the predictions of the pairs with common duplicates..\")\n",
    "for i in range(REPEAT):\n",
    "    dup_neighbors = defaultdict(set)\n",
    "\n",
    "    for dup, q1, q2 in zip(df_train[\"is_duplicate\"], df_train[\"question1\"], df_train[\"question2\"]):\n",
    "        if dup:\n",
    "            dup_neighbors[q1].add(q2)\n",
    "            dup_neighbors[q2].add(q1)\n",
    "\n",
    "    for dup, q1, q2 in zip(test_label, df_test[\"question1\"], df_test[\"question2\"]):\n",
    "        if dup > DUP_THRESHOLD:\n",
    "            dup_neighbors[q1].add(q2)\n",
    "            dup_neighbors[q2].add(q1)\n",
    "\n",
    "    count = 0\n",
    "    for index, (q1, q2) in enumerate(zip(df_test[\"question1\"], df_test[\"question2\"])):\n",
    "        dup_neighbor_count = len(dup_neighbors[q1].intersection(dup_neighbors[q2]))\n",
    "        if dup_neighbor_count > 0 and test_label[index] < DUP_UPPER_BOUND:\n",
    "            update = min(MAX_UPDATE, (DUP_UPPER_BOUND - test_label[index]) / 2)\n",
    "            test_label[index] += update\n",
    "            count += 1\n",
    "\n",
    "    print(\"Updated:\", count)\n"
   ]
  },
  {
   "cell_type": "markdown",
   "metadata": {},
   "source": [
    "**Updating the predictions of the pairs with common non-duplicates**"
   ]
  },
  {
   "cell_type": "code",
   "execution_count": 9,
   "metadata": {},
   "outputs": [
    {
     "name": "stdout",
     "output_type": "stream",
     "text": [
      "Updating the predictions of the pairs with common non-duplicates..\n",
      "Updated: 4403\n",
      "Updated: 4719\n"
     ]
    }
   ],
   "source": [
    "print(\"Updating the predictions of the pairs with common non-duplicates..\")\n",
    "for i in range(REPEAT):\n",
    "    not_dup_neighbors = defaultdict(set)\n",
    "\n",
    "    for dup, q1, q2 in zip(df_train[\"is_duplicate\"], df_train[\"question1\"], df_train[\"question2\"]):\n",
    "        if not dup:\n",
    "            not_dup_neighbors[q1].add(q2)\n",
    "            not_dup_neighbors[q2].add(q1)\n",
    "\n",
    "    for dup, q1, q2 in zip(test_label, df_test[\"question1\"], df_test[\"question2\"]):\n",
    "        if dup < NOT_DUP_THRESHOLD:\n",
    "            not_dup_neighbors[q1].add(q2)\n",
    "            not_dup_neighbors[q2].add(q1)\n",
    "\n",
    "    count = 0\n",
    "    for index, (q1, q2) in enumerate(zip(df_test[\"question1\"], df_test[\"question2\"])):\n",
    "        dup_neighbor_count = len(not_dup_neighbors[q1].intersection(not_dup_neighbors[q2]))\n",
    "        if dup_neighbor_count > 0 and test_label[index] > NOT_DUP_LOWER_BOUND:\n",
    "            update = min(MAX_UPDATE, (test_label[index] - NOT_DUP_LOWER_BOUND) / 2)\n",
    "            test_label[index] -= update\n",
    "            count += 1\n",
    "\n",
    "    print(\"Updated:\", count)"
   ]
  },
  {
   "cell_type": "code",
   "execution_count": 10,
   "metadata": {},
   "outputs": [],
   "source": [
    "submission = pd.DataFrame({\"test_id\":df_test[\"test_id\"], \"is_duplicate\":test_label})\n",
    "submission.to_csv(\"submission.csv\", index=False)\n"
   ]
  },
  {
   "cell_type": "code",
   "execution_count": null,
   "metadata": {},
   "outputs": [],
   "source": []
  }
 ],
 "metadata": {
  "kernelspec": {
   "display_name": "Python 3",
   "language": "python",
   "name": "python3"
  },
  "language_info": {
   "codemirror_mode": {
    "name": "ipython",
    "version": 3
   },
   "file_extension": ".py",
   "mimetype": "text/x-python",
   "name": "python",
   "nbconvert_exporter": "python",
   "pygments_lexer": "ipython3",
   "version": "3.7.1"
  }
 },
 "nbformat": 4,
 "nbformat_minor": 2
}
